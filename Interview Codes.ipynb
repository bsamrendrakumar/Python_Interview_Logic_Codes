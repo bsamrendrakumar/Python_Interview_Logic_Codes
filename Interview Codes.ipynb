{
 "cells": [
  {
   "cell_type": "markdown",
   "id": "4adb28f5-dccf-44bc-8c38-4d3918814a0d",
   "metadata": {},
   "source": [
    "# Python Interview Questions with Codes"
   ]
  },
  {
   "cell_type": "markdown",
   "id": "77567282-139c-4e72-99e8-e7dd4fc4c82d",
   "metadata": {},
   "source": [
    "# Swapping Two Numbers"
   ]
  },
  {
   "cell_type": "code",
   "execution_count": 3,
   "id": "eca67a0f-58e2-4666-bf96-07e347116256",
   "metadata": {},
   "outputs": [
    {
     "name": "stdout",
     "output_type": "stream",
     "text": [
      "Before the Swapping x =  10 y =  20\n",
      "After the Swapping x =  20 y =  20\n"
     ]
    }
   ],
   "source": [
    "x=10\n",
    "y=20\n",
    "print(\"Before the Swapping x = \",x,\"y = \",y)\n",
    "x=y\n",
    "y=x\n",
    "print(\"After the Swapping x = \",x,\"y = \",y)"
   ]
  },
  {
   "cell_type": "markdown",
   "id": "5dc73c39-68d2-454c-b647-e7b9d118a11a",
   "metadata": {},
   "source": [
    "# Minimum Of Two Number"
   ]
  },
  {
   "cell_type": "code",
   "execution_count": 74,
   "id": "a1fc606c-133f-439b-9039-dc3bc779d5f0",
   "metadata": {},
   "outputs": [
    {
     "name": "stdin",
     "output_type": "stream",
     "text": [
      "Enter a number A:- 10\n",
      "Enter a number B:- 50\n"
     ]
    },
    {
     "name": "stdout",
     "output_type": "stream",
     "text": [
      "10 Smaller Number\n"
     ]
    }
   ],
   "source": [
    "a=int(input(\"Enter a number A:-\"))\n",
    "b=int(input(\"Enter a number B:-\"))\n",
    "if a<b :\n",
    "    print(a,\"Smaller Number\")\n",
    "elif a==b :\n",
    "    print(\"a=b\")\n",
    "else :\n",
    "    print(b,\"Smaller Number\")"
   ]
  },
  {
   "cell_type": "markdown",
   "id": "d96f0aa4-c984-45e2-8c11-7571303b7ddd",
   "metadata": {},
   "source": [
    "# Maximum Of Two Number"
   ]
  },
  {
   "cell_type": "code",
   "execution_count": 75,
   "id": "f17c54a0-c70c-4c27-97ef-d9aa683b5996",
   "metadata": {},
   "outputs": [
    {
     "name": "stdin",
     "output_type": "stream",
     "text": [
      "Enter a number A:- 20\n",
      "Enter a number B:- 40\n"
     ]
    },
    {
     "name": "stdout",
     "output_type": "stream",
     "text": [
      "40 Gratter Number\n"
     ]
    }
   ],
   "source": [
    "a=int(input(\"Enter a number A:-\"))\n",
    "b=int(input(\"Enter a number B:-\"))\n",
    "if a>b :\n",
    "    print(a,\"Gratter Number\")\n",
    "elif a==b :\n",
    "    print(\"a=b\")\n",
    "else :\n",
    "    print(b,\"Gratter Number\")"
   ]
  },
  {
   "cell_type": "markdown",
   "id": "16e3a3f2-6299-416c-b1a8-e349e13d6a63",
   "metadata": {},
   "source": [
    "# Progrram of Odd & Even Number"
   ]
  },
  {
   "cell_type": "code",
   "execution_count": 76,
   "id": "57be35fa-e883-4d09-a5e4-66fcda4d1fd2",
   "metadata": {},
   "outputs": [
    {
     "name": "stdin",
     "output_type": "stream",
     "text": [
      "Enter A Number:- 20\n"
     ]
    },
    {
     "name": "stdout",
     "output_type": "stream",
     "text": [
      "Number is Even\n"
     ]
    }
   ],
   "source": [
    "n = int(input(\"Enter A Number:-\"))\n",
    "if n%2==0:\n",
    "    print(\"Number is Even\")\n",
    "else :\n",
    "    print(\"Number is Odd\")"
   ]
  },
  {
   "cell_type": "markdown",
   "id": "dc24f84b-b8a0-475f-b0b1-41016cb3a110",
   "metadata": {},
   "source": [
    "# Sum of Number From 1 to N"
   ]
  },
  {
   "cell_type": "code",
   "execution_count": 78,
   "id": "a1b7be67-d5ae-487e-9610-c3c1ef90a123",
   "metadata": {},
   "outputs": [
    {
     "name": "stdin",
     "output_type": "stream",
     "text": [
      "Enter a Number:- 5\n"
     ]
    },
    {
     "name": "stdout",
     "output_type": "stream",
     "text": [
      "15\n"
     ]
    }
   ],
   "source": [
    "n = int(input(\"Enter a Number:-\"))\n",
    "count=1\n",
    "sum=0\n",
    "while count<=n:\n",
    "    sum=sum+count\n",
    "    count=count+1\n",
    "print(sum)"
   ]
  },
  {
   "cell_type": "markdown",
   "id": "3204004f-89c7-4c85-a139-76d39751a383",
   "metadata": {},
   "source": [
    "# Number is Prinme or Not"
   ]
  },
  {
   "cell_type": "code",
   "execution_count": null,
   "id": "1348b594-ac6d-4e32-87a1-fa7c2a614a12",
   "metadata": {},
   "outputs": [],
   "source": [
    "n = int(input(\"Enter a Number:-\"))\n",
    "i=2\n",
    "while i<=(n-1):\n",
    "    if n%i==0:\n",
    "        print(\"Number is Not Prime\")\n",
    "    else:\n",
    "        i=i+1\n",
    "        print(\"Number is Prime\")"
   ]
  },
  {
   "cell_type": "markdown",
   "id": "4e2c80e1-acfd-48e5-b163-f562d4029dc6",
   "metadata": {},
   "source": [
    "# OR"
   ]
  },
  {
   "cell_type": "code",
   "execution_count": 5,
   "id": "19db81f9-4ecc-42c0-a47e-c8f4871df06f",
   "metadata": {},
   "outputs": [
    {
     "name": "stdin",
     "output_type": "stream",
     "text": [
      "Enter a Number:- 10\n"
     ]
    },
    {
     "name": "stdout",
     "output_type": "stream",
     "text": [
      "Number is Not Prime\n"
     ]
    }
   ],
   "source": [
    "n = int(input(\"Enter a Number:-\"))\n",
    "for i in range(2,n):\n",
    "    if n%i==0:\n",
    "        print(\"Number is Not Prime\")\n",
    "        break\n",
    "    else:\n",
    "        print(\"Number is Prime\")"
   ]
  },
  {
   "cell_type": "markdown",
   "id": "19341289-8caf-4020-89e5-57e3ca53c45b",
   "metadata": {},
   "source": [
    "# Factorial of a Number  n! = n * n-1 * n-2 * n-3 * ........."
   ]
  },
  {
   "cell_type": "code",
   "execution_count": 69,
   "id": "e32b7c73-db2b-4abe-a626-98d389d3c0de",
   "metadata": {
    "scrolled": true
   },
   "outputs": [
    {
     "name": "stdin",
     "output_type": "stream",
     "text": [
      "Enter a Number:- 5\n"
     ]
    },
    {
     "name": "stdout",
     "output_type": "stream",
     "text": [
      "factorial of 2 is  1\n",
      "factorial of 3 is  2\n",
      "factorial of 4 is  6\n",
      "factorial of 5 is  24\n",
      "factorial of 6 is  120\n"
     ]
    }
   ],
   "source": [
    "n = int(input(\"Enter a Number:-\"))\n",
    "factorial=1\n",
    "i=1\n",
    "while i<=n:\n",
    "    factorial=factorial*i\n",
    "    i=i+1\n",
    "    print(\"factorial of\",i, \"is \",factorial) "
   ]
  },
  {
   "cell_type": "markdown",
   "id": "88a15c43-4470-420e-820e-27250355a0d9",
   "metadata": {},
   "source": [
    "# OR"
   ]
  },
  {
   "cell_type": "markdown",
   "id": "c1e5f6f4-eba7-46d1-8590-15d71477ca03",
   "metadata": {},
   "source": [
    "##### "
   ]
  },
  {
   "cell_type": "code",
   "execution_count": 2,
   "id": "fe8c6f31-d820-48db-ac25-b710e3d12106",
   "metadata": {},
   "outputs": [
    {
     "name": "stdin",
     "output_type": "stream",
     "text": [
      "Enter a Number:- 5\n"
     ]
    },
    {
     "name": "stdout",
     "output_type": "stream",
     "text": [
      "factorial of 2 is  1\n",
      "factorial of 3 is  2\n",
      "factorial of 4 is  6\n",
      "factorial of 5 is  24\n",
      "factorial of 6 is  120\n"
     ]
    }
   ],
   "source": [
    "n = int(input(\"Enter a Number:-\"))\n",
    "factorial=1\n",
    "i=1\n",
    "if n<0:\n",
    "    print(\"not exist\")\n",
    "elif n==0:\n",
    "        print(\"0\")\n",
    "else:\n",
    "     while i<=n:\n",
    "           factorial=factorial*i\n",
    "           i=i+1\n",
    "           print(\"factorial of\",i, \"is \",factorial)"
   ]
  },
  {
   "cell_type": "markdown",
   "id": "6400c5de-4c1c-484f-96f9-0dea77fd568c",
   "metadata": {},
   "source": [
    "# Fibonacci Series   Fn = Fn-1+Fn-2+Fn-3+ ........"
   ]
  },
  {
   "cell_type": "code",
   "execution_count": 10,
   "id": "40407951-e42a-42c8-88a1-95a500904d10",
   "metadata": {},
   "outputs": [
    {
     "name": "stdin",
     "output_type": "stream",
     "text": [
      "Enter a Number:- 10\n"
     ]
    },
    {
     "name": "stdout",
     "output_type": "stream",
     "text": [
      "0\n",
      "1\n",
      "1\n",
      "2\n",
      "3\n",
      "5\n",
      "8\n"
     ]
    }
   ],
   "source": [
    "n = int(input(\"Enter a Number:-\"))\n",
    "x=0\n",
    "y=1\n",
    "z=0\n",
    "while z<=n:\n",
    "    print(z)\n",
    "    x=y\n",
    "    y=z\n",
    "    z=x+y"
   ]
  },
  {
   "cell_type": "markdown",
   "id": "11471316-94c0-432e-b4c0-c6f54d3eeb7d",
   "metadata": {},
   "source": [
    "# Remove Duplicate Elements From The List"
   ]
  },
  {
   "cell_type": "code",
   "execution_count": 23,
   "id": "6260eaa7-56a1-4940-b990-86af3e2507fb",
   "metadata": {},
   "outputs": [
    {
     "name": "stdout",
     "output_type": "stream",
     "text": [
      "[40, 10, 50, 20, 30]\n"
     ]
    }
   ],
   "source": [
    "# Using set Function\n",
    "\n",
    "L = [10,20,10,30,10,40,20,50,10,20,50]\n",
    "print(list(set(L)))"
   ]
  },
  {
   "cell_type": "markdown",
   "id": "fa37848b-dec6-44a3-b952-1fc344a81e79",
   "metadata": {},
   "source": [
    "# OR"
   ]
  },
  {
   "cell_type": "code",
   "execution_count": 28,
   "id": "aa3bfaaa-427b-4b6f-9f3d-764cc1af9fe9",
   "metadata": {},
   "outputs": [
    {
     "name": "stdout",
     "output_type": "stream",
     "text": [
      "[10, 20, 30, 40, 50]\n"
     ]
    }
   ],
   "source": [
    "L = [10,20,10,30,10,40,20,50,10,20,50]\n",
    "new_list=[]\n",
    "for element in L:\n",
    "    if element not in new_list:\n",
    "        new_list.append(element)\n",
    "print(new_list)"
   ]
  },
  {
   "cell_type": "markdown",
   "id": "c59ae9ab-496c-43b1-a5ef-f022851536e1",
   "metadata": {},
   "source": [
    "# Check a Number Even or Odd"
   ]
  },
  {
   "cell_type": "code",
   "execution_count": 29,
   "id": "6835516a-a05e-4625-85a3-e246686252cf",
   "metadata": {},
   "outputs": [
    {
     "name": "stdin",
     "output_type": "stream",
     "text": [
      "Enter a Number :-  17\n"
     ]
    },
    {
     "name": "stdout",
     "output_type": "stream",
     "text": [
      "17 Number is Odd\n"
     ]
    }
   ],
   "source": [
    "n=int(input(\"Enter a Number :- \"))\n",
    "if n%2==0:\n",
    "    print(n ,\"Number is Even\")\n",
    "else:\n",
    "    print(n ,\"Number is Odd\")"
   ]
  },
  {
   "cell_type": "markdown",
   "id": "76966bc4-11d0-4b5d-b893-117b6363922b",
   "metadata": {},
   "source": [
    "# Print first 10 natural numbers"
   ]
  },
  {
   "cell_type": "code",
   "execution_count": 41,
   "id": "23f6dc44-a013-4df6-9dca-9d3acbf74dca",
   "metadata": {},
   "outputs": [
    {
     "name": "stdin",
     "output_type": "stream",
     "text": [
      "Enter a Number :-  20\n"
     ]
    },
    {
     "name": "stdout",
     "output_type": "stream",
     "text": [
      "1 2 3 4 5 6 7 8 9 10 11 12 13 14 15 16 17 18 19 20 "
     ]
    }
   ],
   "source": [
    "n=int(input(\"Enter a Number :- \"))\n",
    "for i in range(1,n+1,1):\n",
    "    print(i,end=\" \")"
   ]
  },
  {
   "cell_type": "code",
   "execution_count": 57,
   "id": "85932a8f-d147-4c14-9d1b-eeb6e2ce0f22",
   "metadata": {},
   "outputs": [
    {
     "name": "stdin",
     "output_type": "stream",
     "text": [
      "Enter a Number :-  20\n"
     ]
    },
    {
     "name": "stdout",
     "output_type": "stream",
     "text": [
      "20 , 19 , 18 , 17 , 16 , 15 , 14 , 13 , 12 , 11 , 10 , 9 , 8 , 7 , 6 , 5 , 4 , 3 , 2 , 1 , "
     ]
    }
   ],
   "source": [
    "n=int(input(\"Enter a Number :- \"))\n",
    "for i in range(n,0,-1):\n",
    "    print(i,end=\" , \")"
   ]
  },
  {
   "cell_type": "markdown",
   "id": "0b0550fc-5c61-473e-a0d7-9b263c1c11ac",
   "metadata": {},
   "source": [
    "# given year is a leap year or not"
   ]
  },
  {
   "cell_type": "code",
   "execution_count": 60,
   "id": "2de5e2e5-d387-46de-bf99-700c494fab23",
   "metadata": {},
   "outputs": [
    {
     "name": "stdin",
     "output_type": "stream",
     "text": [
      "Enter an Year :-  2024\n"
     ]
    },
    {
     "name": "stdout",
     "output_type": "stream",
     "text": [
      "Leap Year\n"
     ]
    }
   ],
   "source": [
    "n=int(input(\"Enter an Year :- \"))\n",
    "result= \"Leap Year\" if n%400==0 else \"Leap Year\" if n%4==0 and n%100!=0 else \"Non Leap Year\"\n",
    "print(result)"
   ]
  },
  {
   "cell_type": "markdown",
   "id": "f6307838-4374-47a5-a7ed-090b5e945ffa",
   "metadata": {},
   "source": [
    "# Reverse a tuple"
   ]
  },
  {
   "cell_type": "code",
   "execution_count": 65,
   "id": "80f8748e-c357-4179-b834-0adeaba62df6",
   "metadata": {},
   "outputs": [
    {
     "name": "stdin",
     "output_type": "stream",
     "text": [
      "Enter a Numbers Separated by comma 1,2,3,4,5\n"
     ]
    },
    {
     "name": "stdout",
     "output_type": "stream",
     "text": [
      "tuple is  (1, 2, 3, 4, 5)\n",
      "Reverse of tuple is (5, 4, 3, 2, 1)\n"
     ]
    }
   ],
   "source": [
    "n=eval(input(\"Enter a Numbers Separated by comma\"))\n",
    "print(\"tuple is \",n)\n",
    "l=list(n)\n",
    "l.reverse()\n",
    "n=tuple(l)\n",
    "print(\"Reverse of tuple is\",n)"
   ]
  },
  {
   "cell_type": "markdown",
   "id": "8d397fbc-d81b-46b5-ba8f-e4cd24779b74",
   "metadata": {},
   "source": [
    "# calculate area of a circle"
   ]
  },
  {
   "cell_type": "code",
   "execution_count": 73,
   "id": "fbbedaa5-f62b-4c16-a0e6-ad0f3259495d",
   "metadata": {},
   "outputs": [
    {
     "name": "stdin",
     "output_type": "stream",
     "text": [
      "Enter a radius of a Circule 4\n"
     ]
    },
    {
     "name": "stdout",
     "output_type": "stream",
     "text": [
      "Area of a Circule is  50.24\n"
     ]
    }
   ],
   "source": [
    "r=float(input(\"Enter a radius of a Circule\"))\n",
    "x=3.14*r**2\n",
    "print(\"Area of a Circule is \",x)"
   ]
  },
  {
   "cell_type": "code",
   "execution_count": null,
   "id": "484360b7-7ce5-46ee-862f-dd56e2248a42",
   "metadata": {},
   "outputs": [],
   "source": []
  }
 ],
 "metadata": {
  "kernelspec": {
   "display_name": "Python 3 (ipykernel)",
   "language": "python",
   "name": "python3"
  },
  "language_info": {
   "codemirror_mode": {
    "name": "ipython",
    "version": 3
   },
   "file_extension": ".py",
   "mimetype": "text/x-python",
   "name": "python",
   "nbconvert_exporter": "python",
   "pygments_lexer": "ipython3",
   "version": "3.11.7"
  }
 },
 "nbformat": 4,
 "nbformat_minor": 5
}
